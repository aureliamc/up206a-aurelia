{
 "cells": [
  {
   "cell_type": "code",
   "execution_count": null,
   "id": "625c3e4c-ab90-4d0d-9a89-3f242348a706",
   "metadata": {},
   "outputs": [],
   "source": []
  }
 ],
 "metadata": {
  "kernelspec": {
   "display_name": "",
   "name": ""
  },
  "language_info": {
   "name": ""
  }
 },
 "nbformat": 4,
 "nbformat_minor": 5
}
